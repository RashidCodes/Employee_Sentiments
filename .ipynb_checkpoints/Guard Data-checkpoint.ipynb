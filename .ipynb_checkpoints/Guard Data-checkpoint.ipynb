{
 "cells": [
  {
   "cell_type": "markdown",
   "metadata": {
    "toc": true
   },
   "source": [
    "<h1>Contents<span class=\"tocSkip\"></span></h1>\n",
    "<div class=\"toc\"><ul class=\"toc-item\"><li><span><a href=\"#PROBLEM\" data-toc-modified-id=\"PROBLEM-1\">PROBLEM</a></span></li><li><span><a href=\"#COLLECTING-EMPLOYEE-INFORMATION\" data-toc-modified-id=\"COLLECTING-EMPLOYEE-INFORMATION-2\">COLLECTING EMPLOYEE INFORMATION</a></span></li><li><span><a href=\"#DATA-ANALYSIS\" data-toc-modified-id=\"DATA-ANALYSIS-3\">DATA ANALYSIS</a></span></li><li><span><a href=\"#INSIGHTS-FROM-'COMPLAINT'-FEATURES\" data-toc-modified-id=\"INSIGHTS-FROM-'COMPLAINT'-FEATURES-4\">INSIGHTS FROM 'COMPLAINT' FEATURES</a></span><ul class=\"toc-item\"><li><span><a href=\"#Here-is-a-summary-of-the-guard-complaints.\" data-toc-modified-id=\"Here-is-a-summary-of-the-guard-complaints.-4.1\">Here is a summary of the guard complaints.</a></span></li><li><span><a href=\"#Guards-talking-about-each-problem.\" data-toc-modified-id=\"Guards-talking-about-each-problem.-4.2\">Guards talking about each problem.</a></span></li></ul></li><li><span><a href=\"#INSIGHTS-FROM-OTHER-FEATURES\" data-toc-modified-id=\"INSIGHTS-FROM-OTHER-FEATURES-5\">INSIGHTS FROM OTHER FEATURES</a></span><ul class=\"toc-item\"><li><span><a href=\"#Duration\" data-toc-modified-id=\"Duration-5.1\">Duration</a></span></li><li><span><a href=\"#Relgion\" data-toc-modified-id=\"Relgion-5.2\">Relgion</a></span></li><li><span><a href=\"#English\" data-toc-modified-id=\"English-5.3\">English</a></span></li><li><span><a href=\"#Age\" data-toc-modified-id=\"Age-5.4\">Age</a></span></li><li><span><a href=\"#Level-of-Education\" data-toc-modified-id=\"Level-of-Education-5.5\">Level of Education</a></span></li><li><span><a href=\"#Supervisor-Performance\" data-toc-modified-id=\"Supervisor-Performance-5.6\">Supervisor Performance</a></span></li><li><span><a href=\"#Dressing\" data-toc-modified-id=\"Dressing-5.7\">Dressing</a></span></li><li><span><a href=\"#Churn-in-3-months\" data-toc-modified-id=\"Churn-in-3-months-5.8\">Churn in 3 months</a></span></li><li><span><a href=\"#Number-of-Complaints\" data-toc-modified-id=\"Number-of-Complaints-5.9\">Number of Complaints</a></span></li></ul></li><li><span><a href=\"#RELATIONSHIPS\" data-toc-modified-id=\"RELATIONSHIPS-6\">RELATIONSHIPS</a></span><ul class=\"toc-item\"><li><span><a href=\"#Relationship-between-'Age'-and-'Number-of-Complaint'-features?\" data-toc-modified-id=\"Relationship-between-'Age'-and-'Number-of-Complaint'-features?-6.1\">Relationship between 'Age' and 'Number of Complaint' features?</a></span></li><li><span><a href=\"#Relationship-between-'Duration'-and-'Number-of-Complaint'-features?\" data-toc-modified-id=\"Relationship-between-'Duration'-and-'Number-of-Complaint'-features?-6.2\">Relationship between 'Duration' and 'Number of Complaint' features?</a></span></li><li><span><a href=\"#Relationship-between-'Duration'-and-'Age'-features?\" data-toc-modified-id=\"Relationship-between-'Duration'-and-'Age'-features?-6.3\">Relationship between 'Duration' and 'Age' features?</a></span></li></ul></li><li><span><a href=\"#SUMMARY\" data-toc-modified-id=\"SUMMARY-7\">SUMMARY</a></span></li></ul></div>"
   ]
  },
  {
   "cell_type": "markdown",
   "metadata": {},
   "source": [
    "## PROBLEM"
   ]
  },
  {
   "cell_type": "markdown",
   "metadata": {},
   "source": [
    "The Managing Director of a certain company wants to know the dominant problems that her employees(guards) have, so she can put in place measures to solve them. This notebook seeks to solve this problem using various techniques."
   ]
  },
  {
   "cell_type": "markdown",
   "metadata": {},
   "source": [
    "## COLLECTING EMPLOYEE INFORMATION\n",
    "In this part of the notebook, I import a Guard class for **guard.py** and persist every instance of the guard class using a dictionary. The dictionary is then serialized into a guard.dat file for future reference. The code is mostly supposed to assist in the entry of guard data."
   ]
  },
  {
   "cell_type": "code",
   "execution_count": null,
   "metadata": {},
   "outputs": [],
   "source": [
    "from guard import Guard\n",
    "import pickle\n",
    "\n",
    "## Global constants for menu choices\n",
    "LOOK_UP, ADD, CHANGE, DELETE, QUIT = 1, 2, 3, 4, 5\n",
    "\n",
    "# Global constant for filename\n",
    "FILENAME = 'guards.dat'\n",
    "\n",
    "## main function \n",
    "def main():\n",
    "    ## load the existing guards dictionary and assign it to my contacts\n",
    "    myGuards = load_guards()\n",
    "    \n",
    "    ## Initialize a variable for my choice\n",
    "    choice = 0\n",
    "    \n",
    "    ## Process the menu selections until I want to quit the program\n",
    "    while choice != QUIT:\n",
    "        ## Get menu choices\n",
    "        choice = get_menu_choice()\n",
    "        \n",
    "        ## Process the choice\n",
    "        if choice == LOOK_UP:\n",
    "            look_up(myGuards)\n",
    "            \n",
    "        if choice == ADD:\n",
    "            add(myGuards)\n",
    "            \n",
    "        if choice == CHANGE:\n",
    "            change(myGuards)\n",
    "            \n",
    "        if choice == DELETE:\n",
    "            delete(myGuards)\n",
    "            \n",
    "    ## save myGuards dictionary to a file\n",
    "    save_guards(myGuards)\n",
    "    \n",
    "    \n",
    "def load_guards():\n",
    "    try:\n",
    "        ## open the guard.dat file\n",
    "        input_file = open(FILENAME, 'rb')\n",
    "        \n",
    "        ## unpickle the dictionary\n",
    "        guard_dict = pickle.load(input_file)\n",
    "        \n",
    "        ## close the guard_inventory.dat file\n",
    "        input_file.close()\n",
    "        \n",
    "    except IOError:\n",
    "        ## Could not open file so create a new dictionary\n",
    "        guard_dict = {}\n",
    "        \n",
    "    except EOFError:\n",
    "        guard_dict = {}\n",
    "        \n",
    "    return guard_dict\n",
    "\n",
    "\n",
    "\n",
    "def get_menu_choice():\n",
    "    print()\n",
    "    print('Menu')\n",
    "    print('----------------------')\n",
    "    print('1. Look up a guard')\n",
    "    print('2. Add a new guard')\n",
    "    print('3. Change an existing guard')\n",
    "    print('4. Delete a guard')\n",
    "    print('5. Quit the program')\n",
    "    print()\n",
    "    \n",
    "    \n",
    "    ## Get the user's choice\n",
    "    choice = input('Enter your choice: ')\n",
    "    \n",
    "    \n",
    "    while True:\n",
    "        try:\n",
    "            choice = int(choice)\n",
    "            assert (choice < 6 and choice > 0)\n",
    "            \n",
    "        except AssertionError:\n",
    "            print('select choice within specified range')\n",
    "            choice = input('choice: ')\n",
    "            print()\n",
    "            \n",
    "\n",
    "        except ValueError:\n",
    "            print()\n",
    "            print('choice should be an integer')\n",
    "            choice = input('choice: ')\n",
    "            print()\n",
    "            \n",
    "\n",
    "        else:\n",
    "            break\n",
    "\n",
    "    return choice\n",
    "\n",
    "\n",
    "def look_up(myGuard):\n",
    "    ## Get the id to look up\n",
    "    id = input('Enter an id: ')\n",
    "    \n",
    "    ## Look it up in the dictionary\n",
    "    print(myGuard.get(id, 'That name is not found'))\n",
    "\n",
    "\n",
    "def add(myGuard):\n",
    "    ## get guard information\n",
    "    id_ = input(\"Please enter guard's id: \")\n",
    "    while id_ in myGuard:\n",
    "        print('this already exits')\n",
    "        id_ = input('Please enter another id: ')\n",
    "        \n",
    "    duration = input(\"How long has the guard been with the company?: \")\n",
    "    religion = input(\"What is the guard's religion: \")\n",
    "    english= input(\"Does the guard speak english?: \")\n",
    "    age = input('How old is the guard?: ')\n",
    "    level_ed = input(\"What's the highest level of education of the guard: \")\n",
    "    super_perf = input(\"What is the average supervisor performance: \")\n",
    "    dressed = input('Was the guard dressed well: ')\n",
    "    exited = input(\"Does the guard think he will churn in the next 3 months?: \")\n",
    "    complaint1 = input('Guard Complaint #1 :')\n",
    "    complaint2 = input('Guard Complaint #2 :')\n",
    "    complaint3 = input('Guard Complaint #3 :')\n",
    "    complaint4 = input('Guard Complaint #4 :')\n",
    "    complaint5 = input('Guard Complaint #5 :')\n",
    "    complaint6 = input('Guard Complaint #6 :')\n",
    "    complaint7 = input('Guard Complaint #7 :')\n",
    "    \n",
    "    \n",
    "    ## create guard instance\n",
    "    entry = Guard(id_=id_, duration=duration, religion=religion, english=english, age=age, lev_ed=level_ed, super_perf=super_perf, dressed=dressed, \\\n",
    "                 exited=exited, complaint1=complaint1, complaint2=complaint2, complaint3=complaint3, complaint4=complaint4, complaint5=complaint5, \\\n",
    "                 complaint6=complaint6, complaint7=complaint7)\n",
    "    \n",
    "    if id_ not in myGuard:\n",
    "        myGuard[id_] = entry\n",
    "        \n",
    "    else:\n",
    "        print('this id already exists')\n",
    "        \n",
    "\n",
    "def change(myGuard):\n",
    "    ## Get the name to look up\n",
    "    id_ = input('Enter an id: ')\n",
    "    \n",
    "    if id_ in myGuard:\n",
    "        ## Get new attributes\n",
    "        duration = input(\"How long has the guard been with the company?: \")\n",
    "        religion = input(\"What is the guard's religion: \")\n",
    "        english= input(\"Does the guard speak english?: \")\n",
    "        age = input('How old is the guard?: ')\n",
    "        level_ed = input(\"What's the highest level of education of the guard: \")\n",
    "        super_perf = input(\"What is the average supervisor performance: \")\n",
    "        dressed = input(\"Was the guard dressed well?: \")\n",
    "        exited = input(\"Does the guard think he will churn in the next 3 months?: \")\n",
    "        complaint1 = input('Guard Complaint #1: ')\n",
    "        complaint2 = input('Guard Complaint #2: ')\n",
    "        complaint3 = input('Guard Complaint #3: ')\n",
    "        complaint4 = input('Guard Complaint #4: ')\n",
    "        complaint5 = input('Guard Complaint #5: ')\n",
    "        complaint6 = input('Guard Complaint #6: ')\n",
    "        complaint7 = input('Guard Complaint #7: ')\n",
    "\n",
    "        \n",
    "        ## create guard object\n",
    "        entry = Guard(id_=id_, duration=duration, religion=religion, english=english, age=age, lev_ed=level_ed, super_perf=super_perf, dressed=dressed, \\\n",
    "                 exited=exited, complaint1=complaint1, complaint2=complaint2, complaint3=complaint3, complaint4=complaint4, complaint5=complaint5, \\\n",
    "                 complaint6=complaint6, complaint7=complaint7)\n",
    "        \n",
    "        ## update the entry\n",
    "        myGuard[id_]  = entry\n",
    "        print('Information updated')\n",
    "        \n",
    "        \n",
    "    else: \n",
    "        print('That id is not found')\n",
    "        \n",
    "        \n",
    "        \n",
    "        \n",
    "def delete(myGuard):\n",
    "    ## Get the id to look up\n",
    "    id = input('Enter an id: ')\n",
    "    \n",
    "    if id in myGuard:\n",
    "        del myGuard[id]\n",
    "        print('Entry deleted')\n",
    "        \n",
    "    else:\n",
    "        print('That id is not found')\n",
    "        \n",
    "        \n",
    "        \n",
    "def save_guards(myGuard):\n",
    "    ## Open file for writing\n",
    "    output_file = open(FILENAME, 'wb')\n",
    "    \n",
    "    ## Pickle the dictionary\n",
    "    pickle.dump(myGuard, output_file)\n",
    "    \n",
    "    ## close the file\n",
    "    output_file.close()\n",
    "    \n",
    "    \n",
    "    \n",
    "main()"
   ]
  },
  {
   "cell_type": "markdown",
   "metadata": {},
   "source": [
    "I've been able to persist all the guards, now I want to perform some data analysis."
   ]
  },
  {
   "cell_type": "markdown",
   "metadata": {},
   "source": [
    "## DATA ANALYSIS\n",
    "Here, I'll try to put my data in a tabular form for easy analysis."
   ]
  },
  {
   "cell_type": "code",
   "execution_count": null,
   "metadata": {},
   "outputs": [],
   "source": [
    "## Let's load the dictionary from the guards.dat file\n",
    "guard_dict = load_guards()\n",
    "\n",
    "## now let's create a dataframe from all this data\n",
    "## create empty lists for guard variables\n",
    "duration, religion, english, age, level_ed, super_perf, dressed, exited, complaint1, complaint2, \\\n",
    "complaint3, complaint4, complaint5, complaint6, complaint7  = [], [], [], [], [], [], [], [], [], [], [], [], \\\n",
    "[], [], []\n",
    "\n",
    "columns = ['Duration', 'Religion', 'English', 'Age', 'Level of Education', 'Supervisor Performance', 'Good Dressing', \\\n",
    "           'Churn in 3months', 'complaint1', 'complaint2', 'complaint3', 'complaint4', 'complaint5', 'complaint6', \\\n",
    "           'complaint7']\n",
    "\n",
    "guard_arr = []\n",
    "\n",
    "\n",
    "## grouping like terms among instances\n",
    "for idx, val in guard_dict.items():\n",
    "    guard = [val.get_duration(), val.get_religion(), val.get_english(), val.get_age(), \\\n",
    "             val.get_levelOfEducation(), val.get_supervisorPerformance(), val.get_dressed(), val.get_exited(), \\\n",
    "             val.get_complaint1(), val.get_complaint2(), val.get_complaint3(), val.get_complaint4(), \\\n",
    "             val.get_complaint5(), val.get_complaint6(), val.get_complaint7()]\n",
    "\n",
    "    \n",
    "    guard_arr.append(guard)\n",
    "    \n",
    "\n",
    "\n",
    "# now let's create the dataFrame\n",
    "import pandas as pd\n",
    "guard_df = pd.DataFrame(guard_arr)\n",
    "\n",
    "## drop inaccurate sample by row number\n",
    "guard_df = guard_df.drop(guard_df.index[13])\n",
    "\n",
    "## specify frame columns\n",
    "guard_df.columns = columns\n",
    "\n",
    "## let's save this data to some csv file\n",
    "guard_df.to_csv('guard_data.csv', index=False)\n",
    "\n",
    "## let's read it back in to be sure it worked\n",
    "guard_df = pd.read_csv('guard_data.csv')   "
   ]
  },
  {
   "cell_type": "markdown",
   "metadata": {},
   "source": [
    "I made a mistake while inputting the guard data - i typed 'none ' instead of 'none' in some instances. I also forgot to count the number of complaints each guard had, so i'll create a new column for that and append it to the dataframe using the following code."
   ]
  },
  {
   "cell_type": "code",
   "execution_count": null,
   "metadata": {},
   "outputs": [],
   "source": [
    "import numpy as np\n",
    "## get the number of complaints for each sample\n",
    "num_of_complaints = []\n",
    "\n",
    "for idx in range(len(guard_df)):\n",
    "    ## select the row\n",
    "    rowOfInterest = np.array(guard_df.loc[idx][8:15])\n",
    "    \n",
    "    ## cleaning up the data a bit\n",
    "    rowOfInterest[rowOfInterest == 'none '] = 'none' \n",
    "    \n",
    "    ## count number of columns\n",
    "    not_none = rowOfInterest[(rowOfInterest != 'none')].shape[0]\n",
    "    \n",
    "    ## append to num_of_complaints array\n",
    "    num_of_complaints.append(not_none)\n",
    "    \n",
    "## let's append this to our dataframe\n",
    "guard_df['Number of Complaints'] = num_of_complaints\n",
    "\n",
    "## let's update the csv file\n",
    "guard_df.to_csv('guard_data.csv', index=False)\n",
    "\n",
    "## reading it back in to make sure it works\n",
    "guard_df"
   ]
  },
  {
   "cell_type": "markdown",
   "metadata": {},
   "source": [
    "I will not be able to do any numerical analysis on the features that contain the complaints. However, i'll look through to grab the most dominant and significant complaints."
   ]
  },
  {
   "cell_type": "code",
   "execution_count": null,
   "metadata": {},
   "outputs": [],
   "source": [
    "guard_df"
   ]
  },
  {
   "cell_type": "markdown",
   "metadata": {},
   "source": [
    "## INSIGHTS FROM 'COMPLAINT' FEATURES\n",
    "I'll now analyse the complaints the guards produced and get some insights."
   ]
  },
  {
   "cell_type": "markdown",
   "metadata": {},
   "source": [
    "### Here is a summary of the guard complaints. \n",
    "- Irregular change of work accoutrements.\n",
    "- No first aid.\n",
    "- Late date of payment\n",
    "- Insufficient monthly salary.\n",
    "- No form of defense.\n",
    "- Lack of education concerning the monthly salary.\n",
    "- Insufficient rest days.\n",
    "- Bad quality of uniforms, reflectors and boots.\n",
    "- No job rotation\n",
    "- No incentives\n",
    "- Lack of respect for security rules.\n",
    "- Provision of oversized boots.\n",
    "- Introduction of welfare program.\n",
    "- Difficulty in taking a leave\n",
    "- Inconsistency in SSNIT payments.\n",
    "- No respect for young guards.\n",
    "- Long distance from work.\n",
    "- Revision of Contract agreement.\n",
    "- No interest in guard welfare.\n",
    "- Mosquitoes\n",
    "- Insufficient overtime premiums\n",
    "- No Christmas gifts.\n",
    "- Ineffective deployment by the head office.\n",
    "- Late receipt of payslips.\n",
    "\n",
    "\n",
    "Hopefully, I'll be able to solve at least 50% of these problems."
   ]
  },
  {
   "cell_type": "markdown",
   "metadata": {},
   "source": [
    "### Guards talking about each problem.\n",
    "So I started looking through the complaints, and I got tired minutes after. I decided to develop some algorithm to help me - I used some keywords while I was describing each complaint. I'll now use those keywords to find the accurate number of guards talking about each problem."
   ]
  },
  {
   "cell_type": "code",
   "execution_count": 2,
   "metadata": {},
   "outputs": [],
   "source": [
    "from collections import Counter\n",
    "## let's grab all the keys\n",
    "def guard_talking(keyword):\n",
    "    complaint_arr = ['complaint1', 'complaint2', 'complaint3', 'complaint4', 'complaint5', 'complaint6', 'complaint7']\n",
    "    times_showing = []\n",
    "    for complaint in complaint_arr:\n",
    "        dict_ = Counter(guard_df[complaint])\n",
    "        keys = [keys for keys in dict_]\n",
    "        for key in keys:\n",
    "            if keyword in key:\n",
    "#                 print(key)\n",
    "                times_showing.append(dict_[key])\n",
    "                \n",
    "    times_showing = np.array(times_showing).sum()\n",
    "    \n",
    "    return times_showing\n"
   ]
  },
  {
   "cell_type": "markdown",
   "metadata": {},
   "source": [
    "Awesome, works like a charm. I'll now use this function on the complaints. I'll create a list to store the number of guards per complaint for a dataframe I'll create later."
   ]
  },
  {
   "cell_type": "code",
   "execution_count": null,
   "metadata": {},
   "outputs": [],
   "source": [
    "\n",
    "guards_talking = []\n",
    "\n",
    "keywords_list = ['accoutrements', 'aid', 'date', 'salary', 'defense', 'education', 'days', 'boots','rotation', 'incentives', \\\n",
    "                'rules', 'oversized', 'introduction', 'leave', 'SSNIT', 'young', 'distance', 'revision', \\\n",
    "                 'guard welfare', 'mosquitoes', 'premiu', 'gift', 'head office', 'payslip']\n",
    "\n",
    "for keyword in keywords_list:\n",
    "    numOfGuardsTalking = guard_talking(keyword)\n",
    "    guards_talking.append(numOfGuardsTalking)\n",
    "\n",
    "## let's make our dataframe\n",
    "complaints_ = [\n",
    "    'Irregular change of work accoutrements',\n",
    "    'No first aid',\n",
    "    'Late date of payment',\n",
    "    'Insufficient monthly salary',\n",
    "    'No form of defense',\n",
    "    'Lack of education concerning the monthly salary',\n",
    "    'Insufficient rest days',\n",
    "    'Bad quality of uniforms, reflectors and boots',\n",
    "    'No job rotation',\n",
    "    'No incentives',\n",
    "    'Lack of respect for security rules',\n",
    "    'Provision of oversized boots',\n",
    "    'Introduction of welfare program',\n",
    "    'Difficulty in taking a leave',\n",
    "    'Inconsistency in SSNIT payments',\n",
    "    'No respect for young guards',\n",
    "    'Long distance from work',\n",
    "    'Revision of Contract agreement',\n",
    "    'No interest in guard welfare',\n",
    "    'Mosquitoes',\n",
    "    'Insufficient overtime premiums',\n",
    "    'No Christmas gifts',\n",
    "    'Ineffective deployment by the head office',\n",
    "    'Late receipt of payslips'\n",
    "]\n",
    "\n",
    "guards_talking[3] = 20\n",
    "\n",
    "## let's check if everything matches\n",
    "len(complaints_) == len(guards_talking)\n",
    "\n",
    "## now let's create the dataframe\n",
    "complaints_df = pd.DataFrame({'Complaint': complaints_, 'Number of Guards Talking About Complaint': guards_talking})\n",
    "complaints_df.to_csv('complaints.csv', index=False)\n",
    "\n",
    "\n",
    "\n"
   ]
  },
  {
   "cell_type": "markdown",
   "metadata": {},
   "source": [
    "All done, I can now analyze the rest of the data. Before that, I'll summarize my findings visually."
   ]
  },
  {
   "cell_type": "code",
   "execution_count": 3,
   "metadata": {},
   "outputs": [
    {
     "data": {
      "image/png": "[encoded data removed]",
      "text/plain": [
       "<Figure size 864x576 with 1 Axes>"
      ]
     },
     "metadata": {
      "needs_background": "light"
     },
     "output_type": "display_data"
    }
   ],
   "source": [
    "from matplotlib import pyplot as plt\n",
    "import pandas as pd\n",
    "complaints_df = pd.read_csv('complaints.csv')\n",
    "fig = plt.figure(figsize=(12, 8))\n",
    "plt.barh(complaints_df['Complaint'], complaints_df['Number of Guards Talking About Complaint'] )\n",
    "plt.xlabel('Number of Guards')\n",
    "plt.ylabel('Complaint')\n",
    "plt.title('Guard Complaints at Aviance')\n",
    "plt.show()"
   ]
  },
  {
   "cell_type": "markdown",
   "metadata": {},
   "source": [
    "Looks like most of the guards are talking about their monthly salary."
   ]
  },
  {
   "cell_type": "markdown",
   "metadata": {},
   "source": [
    "## INSIGHTS FROM OTHER FEATURES\n",
    "Previously I dealt with the so called complaint features, so now I'll deal with the others."
   ]
  },
  {
   "cell_type": "markdown",
   "metadata": {},
   "source": [
    "### Duration\n",
    "Mean time a guard serves the company is 4years. For this dataset, I'll say that's not bad."
   ]
  },
  {
   "cell_type": "code",
   "execution_count": null,
   "metadata": {},
   "outputs": [],
   "source": [
    "guard_df['Duration'].describe()\n",
    "print('Mean Duration of a guard: %.0f years'%(guard_df['Duration'].describe()['mean']))\n",
    "print('Longest serving guard: %0.f years'%(guard_df['Duration'].describe()['max']))\n",
    "\n",
    "\n",
    "## let's also take a look at the distribution using a histogram\n",
    "plt.hist(guard_df['Duration'])\n",
    "plt.xlabel('Duration in years')\n",
    "plt.ylabel('Frequency')\n",
    "plt.show()"
   ]
  },
  {
   "cell_type": "markdown",
   "metadata": {},
   "source": [
    "I see that most of the guards have spent between **0 to 2 years** in the company. Very few of the guards have spent **more than 6 years**."
   ]
  },
  {
   "cell_type": "markdown",
   "metadata": {},
   "source": [
    "### Religion\n",
    "The Guards are predominantly **Christian**."
   ]
  },
  {
   "cell_type": "code",
   "execution_count": null,
   "metadata": {},
   "outputs": [],
   "source": [
    "christian = guard_df['Religion']\n",
    "print('%.3f%% of the guards are Christian'%(guard_df[christian == 'c'].shape[0] / len(christian) * 100))"
   ]
  },
  {
   "cell_type": "markdown",
   "metadata": {},
   "source": [
    "### English\n",
    "All the guards also speak english, also very nice."
   ]
  },
  {
   "cell_type": "markdown",
   "metadata": {},
   "source": [
    "### Age\n",
    "It is clear that the average guard who works with the company at this location is around 30 years and has worked with the company for 4 years. Interesting."
   ]
  },
  {
   "cell_type": "code",
   "execution_count": null,
   "metadata": {},
   "outputs": [],
   "source": [
    "age = np.array(guard_df['Age'][guard_df['Age'] != 'none'])\n",
    "print('Mean age of a guard is %.3f years' % np.mean(age.astype(int)))\n",
    "print('The Oldest guard is %.3f years' % np.max(age.astype(int)))\n",
    "\n",
    "age = age.astype(int)\n",
    "plt.hist(age, bins=10)\n",
    "plt.xlabel('Ages')\n",
    "plt.ylabel('Frequency')\n",
    "plt.plot()"
   ]
  },
  {
   "cell_type": "markdown",
   "metadata": {},
   "source": [
    "### Level of Education\n",
    "The values are with respect to the guards whose level of Education is known."
   ]
  },
  {
   "cell_type": "code",
   "execution_count": null,
   "metadata": {},
   "outputs": [],
   "source": [
    "lev_ed = np.array(guard_df['Level of Education'][guard_df['Level of Education'] != 'none'])\n",
    "\n",
    "# form 4 guards\n",
    "form4 = lev_ed[lev_ed == 'Form 4']\n",
    "jss = lev_ed[lev_ed == 'jss']\n",
    "shs = lev_ed[lev_ed == 'shs']\n",
    "print('%.2f%% of guards are Form 4 leavers'%(form4.shape[0] / len(guard_df)*100))\n",
    "print('%.2f%% of guards finished jss'%(jss.shape[0] / len(guard_df)*100))\n",
    "print('%.2f%% of guards finished shs'%(shs.shape[0] / len(guard_df)*100))"
   ]
  },
  {
   "cell_type": "markdown",
   "metadata": {},
   "source": [
    "### Supervisor Performance\n",
    "Let's see what the guards think of their **supervisors** collectively."
   ]
  },
  {
   "cell_type": "code",
   "execution_count": null,
   "metadata": {},
   "outputs": [],
   "source": [
    "sup_perf = np.array(guard_df['Supervisor Performance'][guard_df['Supervisor Performance'] != 'none'])\n",
    "\n",
    "perf = \"moderate good\".split()\n",
    "\n",
    "for performance in perf:\n",
    "    print('%.2f%% of the guards think their supervisors have a '% (sup_perf[sup_perf == performance].shape[0] / 23 *100) + performance + ' performance')\n",
    "\n",
    "## Looks like the supervisors are doing a good job."
   ]
  },
  {
   "cell_type": "markdown",
   "metadata": {},
   "source": [
    "### Dressing\n",
    "All the guards were well dressed during the survey."
   ]
  },
  {
   "cell_type": "markdown",
   "metadata": {},
   "source": [
    "### Churn in 3 months\n",
    "16 people responsed to the question of churning in the next 3 months. Let's see the number of guards that think they would have churned after 3 months, if of course, nothing is done about the complaints."
   ]
  },
  {
   "cell_type": "code",
   "execution_count": null,
   "metadata": {},
   "outputs": [],
   "source": [
    "churn = np.array(guard_df['Churn in 3months'])\n",
    "churn[churn == 'none '] = 'none'\n",
    "\n",
    "churn = churn[churn != 'none']\n",
    "\n",
    "## let's now grab the number of yes' and no's\n",
    "yes_churn = churn[churn == 'y'].shape[0]\n",
    "no_churn= churn[churn == 'n'].shape[0]\n",
    "\n",
    "print('%d of %d guards think they will churn in the next 3 months.' %(yes_churn, churn.shape[0]))\n",
    "print('%d of %d guards think they will not churn in the next 3 months.' %(no_churn, churn.shape[0]))\n",
    "\n",
    "## I think that is good news."
   ]
  },
  {
   "cell_type": "markdown",
   "metadata": {},
   "source": [
    "### Number of Complaints\n",
    "Looks like every guard indeed has something to say about their working conditions."
   ]
  },
  {
   "cell_type": "code",
   "execution_count": null,
   "metadata": {},
   "outputs": [],
   "source": [
    "numOfComplaints = np.array(guard_df['Number of Complaints'])\n",
    "moreThan3 = numOfComplaints[numOfComplaints >= 3].shape[0]\n",
    "\n",
    "## so just 3 guards have less than complaints\n",
    "print('All guards except %d'%(23-moreThan3) + ' have more than 3 complaints')\n",
    "\n",
    "## mean number of complaints per guard\n",
    "print('Each guard has a mean of %0.f complaints'% np.mean(numOfComplaints))\n",
    "\n",
    "## highest number of complaints\n",
    "print('Highest number of complaints is %d' % np.max(numOfComplaints))"
   ]
  },
  {
   "cell_type": "markdown",
   "metadata": {},
   "source": [
    "## RELATIONSHIPS\n",
    "I will investigate relationships between the continuous variables."
   ]
  },
  {
   "cell_type": "code",
   "execution_count": null,
   "metadata": {},
   "outputs": [],
   "source": [
    "from itertools import combinations\n",
    "continuous_variables = \"duration age number_of_complaints\".split()\n",
    "dichotomous_variables = \"supervisor_performance churn_In_3months\".split()\n",
    "\n",
    "## I will investigate relationships between the continuous variables\n",
    "for combos in combinations(continuous_variables, 2):\n",
    "    print(combos)\n",
    "    \n",
    "## I have 3 relationships to explore\n",
    "    \n",
    "    "
   ]
  },
  {
   "cell_type": "markdown",
   "metadata": {},
   "source": [
    "### Relationship between 'Age' and 'Number of Complaint' features?\n",
    "I want to check, with a scatter plot if there's some sort of relationship between these 2 features."
   ]
  },
  {
   "cell_type": "code",
   "execution_count": null,
   "metadata": {},
   "outputs": [],
   "source": [
    "fig = plt.figure(figsize=(8, 6))\n",
    "age_numOfComplaints = guard_df[['Age', 'Number of Complaints']]\n",
    "\n",
    "axis_ = age_numOfComplaints[age_numOfComplaints['Age'] != 'none']\n",
    "\n",
    "## let's sort 'Number of complaints before plotting'\n",
    "sort_complaints = sorted(np.array(axis_['Number of Complaints']).astype(int))\n",
    "sort_age = sorted(np.array(axis_['Age']).astype(int))\n",
    "\n",
    "plt.scatter(sort_age, sort_complaints, marker='o', s=sort_age)\n",
    "plt.ylabel('Number of complaints')\n",
    "plt.xlabel('Ages')\n",
    "plt.title('Number of Complaints against Ages')\n",
    "plt.show()\n"
   ]
  },
  {
   "cell_type": "markdown",
   "metadata": {},
   "source": [
    "If you look closely, you'll see that the number of complaints increases with age. A very interesting insight as well. I'll now investigate the relationship between duration and Number of complaints."
   ]
  },
  {
   "cell_type": "markdown",
   "metadata": {},
   "source": [
    "### Relationship between 'Duration' and 'Number of Complaint' features?"
   ]
  },
  {
   "cell_type": "code",
   "execution_count": null,
   "metadata": {},
   "outputs": [],
   "source": [
    "fig = plt.figure(figsize=(8, 6))\n",
    "duration_numOfComplaints = guard_df[['Duration', 'Number of Complaints']]\n",
    "\n",
    "# great, no 'none' entries, i'll jump right in\n",
    "# sorting\n",
    "sort_duration = sorted(np.array(duration_numOfComplaints['Duration']).astype(float))\n",
    "sort_complaints = sorted(np.array(duration_numOfComplaints['Number of Complaints']).astype(int))\n",
    "\n",
    "## plotting\n",
    "plt.scatter(sort_complaints, sort_duration, marker='o', s=20, c='green')\n",
    "plt.xlabel('Number of Complaints')\n",
    "plt.ylabel('Duration')\n",
    "plt.title('Duration against Number of Complaints')\n",
    "plt.show()"
   ]
  },
  {
   "cell_type": "markdown",
   "metadata": {},
   "source": [
    "I can also see that, the ***longer*** you work with the company, the ***more complaints*** you'll have. I'll now move on to the last relationship I have to explore."
   ]
  },
  {
   "cell_type": "markdown",
   "metadata": {},
   "source": [
    "### Relationship between 'Duration' and 'Age' features?"
   ]
  },
  {
   "cell_type": "code",
   "execution_count": null,
   "metadata": {},
   "outputs": [],
   "source": [
    "fig = plt.figure(figsize=(8, 6))\n",
    "duration_age = guard_df[['Duration', 'Age']]\n",
    "\n",
    "duration_age = duration_age[duration_age['Age'] != 'none']\n",
    "\n",
    "## sorting\n",
    "sort_duration = sorted(np.array(duration_age['Duration']).astype(float))\n",
    "sort_age = sorted(np.array(duration_age['Age']).astype(int))\n",
    "\n",
    "\n",
    "## plotting\n",
    "plt.scatter(sort_age, sort_duration, marker='v', s=20, c='black')\n",
    "plt.xlabel('Age')\n",
    "plt.ylabel('Duration')\n",
    "plt.title('Duration against Age')\n",
    "plt.show()"
   ]
  },
  {
   "cell_type": "markdown",
   "metadata": {},
   "source": [
    "Very interesting, looks like the old guards have served the company for a very long time (at least 4 years). I assumed that perhaps, there'd be one old guard (age > 30) who has not been around for that long, but it looks like I was wrong."
   ]
  },
  {
   "cell_type": "markdown",
   "metadata": {},
   "source": [
    "## SUMMARY\n",
    "In this notebook:\n",
    "- I developed an algorithm to facilitate the ease of ***data entry***. \n",
    "- I also analyzed the **most important information** in the dataset which is the guards' ***complaints*** using various algorithms.\n",
    "- Finally, I summarized my findings visually, using a **simple bar chart**. To feed my curiosity, I also investigated **relationships** between the available continuous variables."
   ]
  }
 ],
 "metadata": {
  "kernelspec": {
   "display_name": "Python 3",
   "language": "python",
   "name": "python3"
  },
  "language_info": {
   "codemirror_mode": {
    "name": "ipython",
    "version": 3
   },
   "file_extension": ".py",
   "mimetype": "text/x-python",
   "name": "python",
   "nbconvert_exporter": "python",
   "pygments_lexer": "ipython3",
   "version": "3.6.6"
  },
  "toc": {
   "base_numbering": 1,
   "nav_menu": {},
   "number_sections": false,
   "sideBar": false,
   "skip_h1_title": false,
   "title_cell": "Contents",
   "title_sidebar": "Contents",
   "toc_cell": true,
   "toc_position": {},
   "toc_section_display": false,
   "toc_window_display": false
  },
  "varInspector": {
   "cols": {
    "lenName": 16,
    "lenType": 16,
    "lenVar": 40
   },
   "kernels_config": {
    "python": {
     "delete_cmd_postfix": "",
     "delete_cmd_prefix": "del ",
     "library": "var_list.py",
     "varRefreshCmd": "print(var_dic_list())"
    },
    "r": {
     "delete_cmd_postfix": ") ",
     "delete_cmd_prefix": "rm(",
     "library": "var_list.r",
     "varRefreshCmd": "cat(var_dic_list()) "
    }
   },
   "types_to_exclude": [
    "module",
    "function",
    "builtin_function_or_method",
    "instance",
    "_Feature"
   ],
   "window_display": false
  }
 },
 "nbformat": 4,
 "nbformat_minor": 2
}
